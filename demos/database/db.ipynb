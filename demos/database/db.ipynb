{
 "cells": [
  {
   "cell_type": "code",
   "execution_count": 5,
   "metadata": {},
   "outputs": [
    {
     "data": {
      "text/plain": "[<Author 'eric'>,\n <Author 'elliot'>,\n <Author 'elaine'>,\n <Author 'james'>,\n <Author 'newau5'>,\n <Author 'newau6'>,\n <Author 'newau7'>]"
     },
     "execution_count": 5,
     "metadata": {},
     "output_type": "execute_result"
    }
   ],
   "source": [
    "from app import Author,db\r\n",
    "num = Author.query.count()\r\n",
    "au = Author(name='newau' + str(num+1), phone='70415' + str(num+1))\r\n",
    "db.session.add(au)\r\n",
    "db.session.commit()\r\n",
    "Author.query.all()\r\n"
   ]
  },
  {
   "cell_type": "code",
   "execution_count": 6,
   "metadata": {},
   "outputs": [
    {
     "data": {
      "text/plain": "[<Author 'eric'>,\n <Author 'elliot'>,\n <Author 'elaine'>,\n <Author 'james'>,\n <Author 'newau5'>,\n <Author 'newau6'>,\n <Author 'newau7'>]"
     },
     "execution_count": 6,
     "metadata": {},
     "output_type": "execute_result"
    }
   ],
   "source": [
    "Author.query.all()\r\n"
   ]
  }
 ],
 "metadata": {
  "kernelspec": {
   "display_name": "Python 3.9.1 64-bit ('venv')",
   "metadata": {
    "interpreter": {
     "hash": "56b3ffc10cfc5cb5fe4f33935d95856931e618dad8f87b500dc3066fd6bded23"
    }
   },
   "name": "python3"
  },
  "language_info": {
   "codemirror_mode": {
    "name": "ipython",
    "version": 3
   },
   "file_extension": ".py",
   "mimetype": "text/x-python",
   "name": "python",
   "nbconvert_exporter": "python",
   "pygments_lexer": "ipython3",
   "version": "3.9.1"
  },
  "orig_nbformat": 2
 },
 "nbformat": 4,
 "nbformat_minor": 2
}