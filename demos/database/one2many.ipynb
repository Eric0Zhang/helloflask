{
 "cells": [
  {
   "cell_type": "code",
   "execution_count": null,
   "metadata": {},
   "outputs": [],
   "source": [
    "!flask initdb --drop\r\n",
    "# 注意用感叹号即可插入系统shell中的命令, 否则语句是执行在python shell中的.\r\n",
    "# 该命令是app.py中定义的cli命令, 用于初始化数据库(先清理, 然后创建一个新的空数据库)\r\n",
    "# 注意根据initdb的定义 --drop参数指先清空数据库"
   ]
  },
  {
   "cell_type": "code",
   "execution_count": 6,
   "metadata": {},
   "outputs": [
    {
     "data": {
      "text/plain": [
       "[<Author 'eric'>, <Author 'elliot'>, <Author 'elaine'>, <Author 'elizabirth'>]"
      ]
     },
     "execution_count": 6,
     "metadata": {},
     "output_type": "execute_result"
    }
   ],
   "source": [
    "# 创建四个作者\n",
    "from app import Author,db\n",
    "au = Author(name='eric', phone='7041519')\n",
    "db.session.add(au)\n",
    "db.session.commit()\n",
    "au = Author(name='elliot', phone='7041520')\n",
    "db.session.add(au)\n",
    "db.session.commit()\n",
    "au = Author(name='elaine', phone='7041521')\n",
    "db.session.add(au)\n",
    "db.session.commit()\n",
    "au = Author(name='elizabirth', phone='7041522')\n",
    "db.session.add(au)\n",
    "db.session.commit()\n",
    "Author.query.all()\n"
   ]
  },
  {
   "cell_type": "code",
   "execution_count": 7,
   "metadata": {},
   "outputs": [
    {
     "data": {
      "text/plain": [
       "[<Article 'article title1'>,\n",
       " <Article 'article title2'>,\n",
       " <Article 'article title3'>,\n",
       " <Article 'article title4'>,\n",
       " <Article 'article title5'>,\n",
       " <Article 'article title6'>,\n",
       " <Article 'article title7'>,\n",
       " <Article 'article title8'>,\n",
       " <Article 'article title9'>,\n",
       " <Article 'article title10'>,\n",
       " <Article 'article title11'>,\n",
       " <Article 'article title12'>]"
      ]
     },
     "execution_count": 7,
     "metadata": {},
     "output_type": "execute_result"
    }
   ],
   "source": [
    "# 创建12篇文章\n",
    "from app import Article\n",
    "num = Article.query.count()\n",
    "for i in range(12):\n",
    "    at = Article(title='article title' + str(i+1), body='I have a dream, one day I have' + str(i+1) + 'wives')\n",
    "    db.session.add(at)\n",
    "    db.session.commit()\n",
    "\n",
    "Article.query.all()\n"
   ]
  },
  {
   "cell_type": "code",
   "execution_count": 5,
   "metadata": {},
   "outputs": [],
   "source": [
    "import random\n",
    "from app import Article,db\n",
    "# 这里为每篇文章添加作者id, 四个作者, 随机1-4\n",
    "# 需要注意的是, 数据库的id是从1开始的, 而range是从0开始的, 因此要+1\n",
    "for i in range(12):\n",
    "    a = Article.query.get(i+1)\n",
    "    a.author_id = random.randint(1,4)\n",
    "    db.session.commit()"
   ]
  },
  {
   "cell_type": "code",
   "execution_count": 13,
   "metadata": {},
   "outputs": [
    {
     "name": "stdout",
     "output_type": "stream",
     "text": [
      "[<Article 'article title2'>, <Article 'article title7'>, <Article 'article title8'>, <Article 'article title10'>, <Article 'article title11'>]\n",
      "[<Article 'article title3'>, <Article 'article title4'>]\n",
      "[<Article 'article title1'>, <Article 'article title6'>, <Article 'article title9'>]\n",
      "[<Article 'article title5'>, <Article 'article title12'>]\n"
     ]
    }
   ],
   "source": [
    "# 查看每个作者的文章\n",
    "from app import Author\n",
    "for i in range(4):\n",
    "    a = Author.query.get(i+1)\n",
    "    print(a.articles)"
   ]
  },
  {
   "cell_type": "code",
   "execution_count": null,
   "metadata": {},
   "outputs": [],
   "source": []
  }
 ],
 "metadata": {
  "kernelspec": {
   "display_name": "Python 3.9.1 64-bit ('venv')",
   "metadata": {
    "interpreter": {
     "hash": "56b3ffc10cfc5cb5fe4f33935d95856931e618dad8f87b500dc3066fd6bded23"
    }
   },
   "name": "python3"
  },
  "language_info": {
   "codemirror_mode": {
    "name": "ipython",
    "version": 3
   },
   "file_extension": ".py",
   "mimetype": "text/x-python",
   "name": "python",
   "nbconvert_exporter": "python",
   "pygments_lexer": "ipython3",
   "version": "3.9.1-final"
  },
  "orig_nbformat": 2
 },
 "nbformat": 4,
 "nbformat_minor": 2
}